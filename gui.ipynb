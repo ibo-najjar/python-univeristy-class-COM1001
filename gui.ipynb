{
 "cells": [
  {
   "cell_type": "code",
   "execution_count": 9,
   "metadata": {},
   "outputs": [],
   "source": [
    "from tkinter import *"
   ]
  },
  {
   "cell_type": "code",
   "execution_count": null,
   "metadata": {},
   "outputs": [],
   "source": [
    "window = Tk()\n",
    "window.title(\"Program loop\")\n",
    "window.mainloop()"
   ]
  },
  {
   "cell_type": "markdown",
   "metadata": {},
   "source": [
    "## Buttons"
   ]
  },
  {
   "cell_type": "code",
   "execution_count": 15,
   "metadata": {},
   "outputs": [],
   "source": [
    "def changeColor():\n",
    "    if btnCalculate[\"fg\"] == \"blue\":\n",
    "        btnCalculate[\"fg\"] = \"red\"\n",
    "    else:\n",
    "        btnCalculate[\"fg\"] = \"blue\""
   ]
  },
  {
   "cell_type": "code",
   "execution_count": 17,
   "metadata": {},
   "outputs": [],
   "source": [
    "window = Tk()\n",
    "window.title(\"Button\")\n",
    "btnCalculate = Button(window, text=\"calculate\", bg =\"light blue\",command=changeColor)\n",
    "btnCalculate.grid(padx=75, pady=15)\n",
    "window.mainloop()"
   ]
  },
  {
   "cell_type": "code",
   "execution_count": 18,
   "metadata": {},
   "outputs": [],
   "source": [
    "window = Tk()\n",
    "Principal = Label(window, text=\"Principal: \")\n",
    "Principal.grid(padx = 100, pady=15)\n",
    "window.mainloop()"
   ]
  },
  {
   "cell_type": "markdown",
   "metadata": {},
   "source": [
    "## Entry Widgets"
   ]
  },
  {
   "cell_type": "code",
   "execution_count": 19,
   "metadata": {},
   "outputs": [],
   "source": [
    "window = Tk()\n",
    "window.title(\"Entry widget\")\n",
    "entName = Entry(window, width=20)\n",
    "entName.grid(padx=100,pady=15)\n",
    "window.mainloop()"
   ]
  },
  {
   "cell_type": "code",
   "execution_count": null,
   "metadata": {},
   "outputs": [],
   "source": [
    "def convertToUpperCase():\n",
    "    conOfentName.set(conOfentName.get().upper)\n",
    "\n",
    "window = Tk()\n",
    "conOfentName = StringVar()\n",
    "entName= Entry(window,textvariable=conOfentName)\n",
    "entName.grid(padx=100,pady=15)\n",
    "entName.bind(\"<Button-3>\", convertToUpperCase)\n",
    "print(conOfentName)\n",
    "window.mainloop()"
   ]
  },
  {
   "cell_type": "code",
   "execution_count": 26,
   "metadata": {},
   "outputs": [],
   "source": [
    "window=Tk()\n",
    "window.title(\"Read Only Entry Widget\")\n",
    "conOFentOutput = StringVar()\n",
    "entOutput = Entry(window,width=20,state=\"readonly\", textvariable=conOFentOutput)\n",
    "entOutput.grid(padx=100,pady=15)\n",
    "conOFentOutput.set(\"HELLO WORLD!\")\n",
    "window.mainloop()"
   ]
  },
  {
   "cell_type": "markdown",
   "metadata": {},
   "source": [
    "## List Box"
   ]
  },
  {
   "cell_type": "code",
   "execution_count": 30,
   "metadata": {},
   "outputs": [],
   "source": [
    "def changeBg(event):\n",
    "    lstColors[\"bg\"] = lstColors.get(lstColors.curselection())\n",
    "\n",
    "window = Tk()\n",
    "window.title(\"Listbox\")\n",
    "L = [\"red\",\"yellow\", \"light blue\", \"orange\"]\n",
    "conOFlstColors = StringVar()\n",
    "lstColors = Listbox(window, width=10,height=5, listvariable=conOFlstColors)\n",
    "lstColors.grid(padx=100,pady=15)\n",
    "conOFlstColors.set(tuple(L))\n",
    "lstColors.bind(\"<<ListboxSelect>>\", changeBg)\n",
    "window.mainloop()"
   ]
  },
  {
   "cell_type": "markdown",
   "metadata": {},
   "source": [
    "## Scroll Bars"
   ]
  },
  {
   "cell_type": "code",
   "execution_count": 31,
   "metadata": {},
   "outputs": [],
   "source": [
    "window = Tk()\n",
    "window.title(\"Scrollbar\")\n",
    "yscroll = Scrollbar(window, orient=VERTICAL)\n",
    "yscroll.grid(padx=110,pady=15)\n",
    "window.mainloop()"
   ]
  }
 ],
 "metadata": {
  "interpreter": {
   "hash": "034a2ff1ce7a220551fa18f5e7125a21115135e98a83fcfdf6ff670c353a13c9"
  },
  "kernelspec": {
   "display_name": "Python 3.8.5 64-bit ('condaenv': conda)",
   "language": "python",
   "name": "python3"
  },
  "language_info": {
   "codemirror_mode": {
    "name": "ipython",
    "version": 3
   },
   "file_extension": ".py",
   "mimetype": "text/x-python",
   "name": "python",
   "nbconvert_exporter": "python",
   "pygments_lexer": "ipython3",
   "version": "3.8.5"
  },
  "orig_nbformat": 4
 },
 "nbformat": 4,
 "nbformat_minor": 2
}
