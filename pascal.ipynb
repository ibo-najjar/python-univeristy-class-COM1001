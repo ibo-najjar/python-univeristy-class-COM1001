{
 "cells": [
  {
   "cell_type": "code",
   "execution_count": null,
   "metadata": {},
   "outputs": [],
   "source": [
    "num = int(input(\"Enter the number of rows:\"))\n",
    "  \n",
    "for i in range(num):\n",
    "    print(' '*(num-i), end='')\n",
    "\n",
    "    print(' '.join(map(str, str(11**i))))\n",
    "    if i == num - 1:\n",
    "        print(f\"coeffients of the expansion (1 + x)^{num} => \"+'-'.join(map(str, str(11**i))))"
   ]
  },
  {
   "cell_type": "code",
   "execution_count": null,
   "metadata": {},
   "outputs": [],
   "source": [
    "class SavingsAccount():\n",
    "    def __init__(self,name=\"NULL\",balance=0):\n",
    "        self.name = name\n",
    "        self.balance = balance\n",
    "    def set_name(self,name):\n",
    "        self.name = name\n",
    "    def makeDeposit(self,depositAmount):\n",
    "        if depositAmount > 0:\n",
    "            self.balance += depositAmount\n",
    "        else:\n",
    "            return \"depsot denied\"\n",
    "    def makeWithdrawl(self,withdrawlAmount):\n",
    "        if withdrawlAmount > self.balance:\n",
    "            return \"transaction denied\"\n",
    "        else:\n",
    "            self.balance -= withdrawlAmount\n",
    "    def __str__(self):\n",
    "        return \"\"\"\n",
    "            name: {self.name}\n",
    "            balance: {self.balance}\n",
    "        \"\"\"\n",
    "    def get_balance(self):\n",
    "        return self.balance\n",
    "def select(choice,acc):\n",
    "    while choice != 'Q':\n",
    "        if choice == 'D':\n",
    "            depositAmount = eval(input(\"Enter Amount to deposit: \"))\n",
    "            acc.makeDeposit(depositAmount)\n",
    "            print(acc.get_balance)\n",
    "        elif choice == 'W':\n",
    "            WithdrawlAmount = eval(input(\"Enter Amount to withdraw: \"))\n",
    "            acc.makeWithdrawl(WithdrawlAmount)\n",
    "            print(acc.get_balance)\n",
    "        else:\n",
    "            print(\"END OF TRANSACTION\")\n",
    "def main():\n",
    "    name = input(\"Enter name: \")\n",
    "    acc = SavingsAccount()\n",
    "    acc.set_name(name)\n",
    "    choice = input(\"ENTER D, W, OR Q: \")\n",
    "    while choice in [\"D\",'W','Q']:\n",
    "        choice = input(\"ENTER D, W, OR Q: \")\n",
    "        select(choice,acc)\n",
    "\n",
    "    \n",
    "main()"
   ]
  },
  {
   "cell_type": "code",
   "execution_count": 30,
   "metadata": {},
   "outputs": [
    {
     "ename": "UnpicklingError",
     "evalue": "pickle data was truncated",
     "output_type": "error",
     "traceback": [
      "\u001b[1;31m---------------------------------------------------------------------------\u001b[0m",
      "\u001b[1;31mUnpicklingError\u001b[0m                           Traceback (most recent call last)",
      "\u001b[1;32m~\\AppData\\Local\\Temp/ipykernel_16008/1729847334.py\u001b[0m in \u001b[0;36m<module>\u001b[1;34m\u001b[0m\n\u001b[0;32m     11\u001b[0m         \u001b[0mself\u001b[0m\u001b[1;33m.\u001b[0m\u001b[0m_nationList\u001b[0m \u001b[1;33m=\u001b[0m \u001b[0mlist\u001b[0m\u001b[1;33m(\u001b[0m\u001b[1;33m(\u001b[0m\u001b[0mself\u001b[0m\u001b[1;33m.\u001b[0m\u001b[0m_nationDict\u001b[0m\u001b[1;33m.\u001b[0m\u001b[0mkeys\u001b[0m\u001b[1;33m(\u001b[0m\u001b[1;33m)\u001b[0m\u001b[1;33m)\u001b[0m\u001b[1;33m)\u001b[0m\u001b[1;33m\u001b[0m\u001b[1;33m\u001b[0m\u001b[0m\n\u001b[0;32m     12\u001b[0m         \u001b[0mprint\u001b[0m\u001b[1;33m(\u001b[0m\u001b[0mself\u001b[0m\u001b[1;33m.\u001b[0m\u001b[0m_nationList\u001b[0m\u001b[1;33m)\u001b[0m\u001b[1;33m\u001b[0m\u001b[1;33m\u001b[0m\u001b[0m\n\u001b[1;32m---> 13\u001b[1;33m \u001b[0mNations\u001b[0m\u001b[1;33m(\u001b[0m\u001b[1;33m)\u001b[0m\u001b[1;33m\u001b[0m\u001b[1;33m\u001b[0m\u001b[0m\n\u001b[0m",
      "\u001b[1;32m~\\AppData\\Local\\Temp/ipykernel_16008/1729847334.py\u001b[0m in \u001b[0;36m__init__\u001b[1;34m(self)\u001b[0m\n\u001b[0;32m      7\u001b[0m         \u001b[0mwindow\u001b[0m\u001b[1;33m.\u001b[0m\u001b[0mtitle\u001b[0m\u001b[1;33m(\u001b[0m\u001b[1;34m\"Members of the UN\"\u001b[0m\u001b[1;33m)\u001b[0m\u001b[1;33m\u001b[0m\u001b[1;33m\u001b[0m\u001b[0m\n\u001b[0;32m      8\u001b[0m         \u001b[0mf\u001b[0m \u001b[1;33m=\u001b[0m \u001b[0mopen\u001b[0m\u001b[1;33m(\u001b[0m\u001b[1;34m\"UN.txt\"\u001b[0m\u001b[1;33m,\u001b[0m\u001b[1;34m'rb'\u001b[0m\u001b[1;33m)\u001b[0m\u001b[1;33m\u001b[0m\u001b[1;33m\u001b[0m\u001b[0m\n\u001b[1;32m----> 9\u001b[1;33m         \u001b[0mself\u001b[0m\u001b[1;33m.\u001b[0m\u001b[0m_nationDict\u001b[0m \u001b[1;33m=\u001b[0m \u001b[0mpickle\u001b[0m\u001b[1;33m.\u001b[0m\u001b[0mload\u001b[0m\u001b[1;33m(\u001b[0m\u001b[0mf\u001b[0m\u001b[1;33m)\u001b[0m\u001b[1;33m\u001b[0m\u001b[1;33m\u001b[0m\u001b[0m\n\u001b[0m\u001b[0;32m     10\u001b[0m         \u001b[0mf\u001b[0m\u001b[1;33m.\u001b[0m\u001b[0mclose\u001b[0m\u001b[1;33m(\u001b[0m\u001b[1;33m)\u001b[0m\u001b[1;33m\u001b[0m\u001b[1;33m\u001b[0m\u001b[0m\n\u001b[0;32m     11\u001b[0m         \u001b[0mself\u001b[0m\u001b[1;33m.\u001b[0m\u001b[0m_nationList\u001b[0m \u001b[1;33m=\u001b[0m \u001b[0mlist\u001b[0m\u001b[1;33m(\u001b[0m\u001b[1;33m(\u001b[0m\u001b[0mself\u001b[0m\u001b[1;33m.\u001b[0m\u001b[0m_nationDict\u001b[0m\u001b[1;33m.\u001b[0m\u001b[0mkeys\u001b[0m\u001b[1;33m(\u001b[0m\u001b[1;33m)\u001b[0m\u001b[1;33m)\u001b[0m\u001b[1;33m)\u001b[0m\u001b[1;33m\u001b[0m\u001b[1;33m\u001b[0m\u001b[0m\n",
      "\u001b[1;31mUnpicklingError\u001b[0m: pickle data was truncated"
     ]
    }
   ],
   "source": [
    "from tkinter import *\n",
    "import pickle\n",
    "\n",
    "class Nations:\n",
    "    def __init__(self):\n",
    "        window = Tk()\n",
    "        window.title(\"Members of the UN\")\n",
    "        f = open(\"UN.txt\",'rb')\n",
    "        self._nationDict = pickle.load(f)\n",
    "        f.close()\n",
    "        self._nationList = list((self._nationDict.keys()))\n",
    "        print(self._nationList)\n",
    "Nations()"
   ]
  }
 ],
 "metadata": {
  "interpreter": {
   "hash": "034a2ff1ce7a220551fa18f5e7125a21115135e98a83fcfdf6ff670c353a13c9"
  },
  "kernelspec": {
   "display_name": "Python 3.8.5 64-bit ('condaenv': conda)",
   "language": "python",
   "name": "python3"
  },
  "language_info": {
   "codemirror_mode": {
    "name": "ipython",
    "version": 3
   },
   "file_extension": ".py",
   "mimetype": "text/x-python",
   "name": "python",
   "nbconvert_exporter": "python",
   "pygments_lexer": "ipython3",
   "version": "3.8.5"
  },
  "orig_nbformat": 4
 },
 "nbformat": 4,
 "nbformat_minor": 2
}
